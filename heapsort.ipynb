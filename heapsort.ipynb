{
 "cells": [
  {
   "cell_type": "markdown",
   "id": "fa673f46",
   "metadata": {},
   "source": [
    "# Heap Sort\n",
    "\n",
    "***"
   ]
  },
  {
   "cell_type": "markdown",
   "id": "2fd4db1c",
   "metadata": {},
   "source": [
    "## Lists in Python\n",
    "\n",
    "***"
   ]
  },
  {
   "cell_type": "code",
   "execution_count": 1,
   "id": "cf1e10c1",
   "metadata": {},
   "outputs": [],
   "source": [
    "# Lists in Python can be created with square bracket notation.\n",
    "L = [1, 2, 3, \"Hello, world!\", None, True]"
   ]
  },
  {
   "cell_type": "code",
   "execution_count": 2,
   "id": "27bc9be5",
   "metadata": {},
   "outputs": [
    {
     "data": {
      "text/plain": [
       "True"
      ]
     },
     "execution_count": 2,
     "metadata": {},
     "output_type": "execute_result"
    }
   ],
   "source": [
    "# They are zero indexed, as usual.\n",
    "L[5]"
   ]
  },
  {
   "cell_type": "code",
   "execution_count": 3,
   "id": "4a56898e",
   "metadata": {},
   "outputs": [
    {
     "data": {
      "text/plain": [
       "[1, 2, 3]"
      ]
     },
     "execution_count": 3,
     "metadata": {},
     "output_type": "execute_result"
    }
   ],
   "source": [
    "# Create Lists with the list() function.\n",
    "list({1, 2, 3, 3})"
   ]
  },
  {
   "cell_type": "code",
   "execution_count": 4,
   "id": "01f72397",
   "metadata": {},
   "outputs": [
    {
     "data": {
      "text/plain": [
       "True"
      ]
     },
     "execution_count": 4,
     "metadata": {},
     "output_type": "execute_result"
    }
   ],
   "source": [
    "# Using negative indexes.\n",
    "L[-1]"
   ]
  },
  {
   "cell_type": "code",
   "execution_count": 5,
   "id": "a9feffb5",
   "metadata": {},
   "outputs": [
    {
     "data": {
      "text/plain": [
       "'Hello, world!'"
      ]
     },
     "execution_count": 5,
     "metadata": {},
     "output_type": "execute_result"
    }
   ],
   "source": [
    "# Third last element.\n",
    "L[-3]"
   ]
  },
  {
   "cell_type": "code",
   "execution_count": 6,
   "id": "3af2102d",
   "metadata": {},
   "outputs": [
    {
     "data": {
      "text/plain": [
       "[0, 2, 4, 6, 8, 10, 12, 14, 16, 18]"
      ]
     },
     "execution_count": 6,
     "metadata": {},
     "output_type": "execute_result"
    }
   ],
   "source": [
    "# In-built functions for creating iterables.\n",
    "list(range(0, 20, 2))"
   ]
  },
  {
   "cell_type": "code",
   "execution_count": 7,
   "id": "0913a2c4",
   "metadata": {},
   "outputs": [
    {
     "data": {
      "text/plain": [
       "[0, 1, 2, 3, 4, 5, 6, 7, 8, 9, 10, 11, 12, 13, 14, 15, 16, 17, 18, 19]"
      ]
     },
     "execution_count": 7,
     "metadata": {},
     "output_type": "execute_result"
    }
   ],
   "source": [
    "# In-built functions for creating iterables.\n",
    "L = list(range(20))\n",
    "L"
   ]
  },
  {
   "cell_type": "code",
   "execution_count": 8,
   "id": "e7f70da4",
   "metadata": {},
   "outputs": [
    {
     "data": {
      "text/plain": [
       "[1, 3, 5, 7, 9]"
      ]
     },
     "execution_count": 8,
     "metadata": {},
     "output_type": "execute_result"
    }
   ],
   "source": [
    "# List slicing.\n",
    "L[1:10:2]"
   ]
  },
  {
   "cell_type": "code",
   "execution_count": 9,
   "id": "e233d867",
   "metadata": {},
   "outputs": [
    {
     "data": {
      "text/plain": [
       "[5, 6, 7, 8, 9]"
      ]
     },
     "execution_count": 9,
     "metadata": {},
     "output_type": "execute_result"
    }
   ],
   "source": [
    "# List slicing.\n",
    "L[5:10]"
   ]
  },
  {
   "cell_type": "code",
   "execution_count": 10,
   "id": "0afb665f",
   "metadata": {},
   "outputs": [
    {
     "data": {
      "text/plain": [
       "[5, 6, 7, 8, 9, 10, 11, 12, 13, 14, 15, 16, 17, 18, 19]"
      ]
     },
     "execution_count": 10,
     "metadata": {},
     "output_type": "execute_result"
    }
   ],
   "source": [
    "# List slicing.\n",
    "L[5:]"
   ]
  },
  {
   "cell_type": "code",
   "execution_count": 11,
   "id": "723e9986",
   "metadata": {},
   "outputs": [
    {
     "data": {
      "text/plain": [
       "[0, 1, 2, 3, 4]"
      ]
     },
     "execution_count": 11,
     "metadata": {},
     "output_type": "execute_result"
    }
   ],
   "source": [
    "# List slicing.\n",
    "L[:5]"
   ]
  },
  {
   "cell_type": "code",
   "execution_count": 12,
   "id": "bcb520f6",
   "metadata": {},
   "outputs": [
    {
     "data": {
      "text/plain": [
       "[5, 6, 7, 8, 9, 10, 11, 12, 13, 14, 15, 16, 17, 18, 19, 0, 1, 2, 3, 4]"
      ]
     },
     "execution_count": 12,
     "metadata": {},
     "output_type": "execute_result"
    }
   ],
   "source": [
    "# Quick way to cycle the list to the left.\n",
    "i = 5\n",
    "L[i:] + L[:i]"
   ]
  },
  {
   "cell_type": "code",
   "execution_count": 13,
   "id": "41a2ec0b",
   "metadata": {},
   "outputs": [],
   "source": [
    "# Tuples -- immutable.\n",
    "T = (1, 2, 3, 4)"
   ]
  },
  {
   "cell_type": "code",
   "execution_count": 14,
   "id": "6ec1a329",
   "metadata": {},
   "outputs": [
    {
     "data": {
      "text/plain": [
       "1"
      ]
     },
     "execution_count": 14,
     "metadata": {},
     "output_type": "execute_result"
    }
   ],
   "source": [
    "# Select elements.\n",
    "T[0]"
   ]
  },
  {
   "cell_type": "code",
   "execution_count": 15,
   "id": "e586d623",
   "metadata": {},
   "outputs": [
    {
     "data": {
      "text/plain": [
       "(4,)"
      ]
     },
     "execution_count": 15,
     "metadata": {},
     "output_type": "execute_result"
    }
   ],
   "source": [
    "# Slice.\n",
    "T[3:]"
   ]
  },
  {
   "cell_type": "code",
   "execution_count": 16,
   "id": "b99be095",
   "metadata": {},
   "outputs": [],
   "source": [
    "# Can't assign - would give an error\n",
    "# T[2] = 100"
   ]
  },
  {
   "cell_type": "code",
   "execution_count": 17,
   "id": "49afbee6",
   "metadata": {},
   "outputs": [
    {
     "data": {
      "text/plain": [
       "(1, 2, 3, 4)"
      ]
     },
     "execution_count": 17,
     "metadata": {},
     "output_type": "execute_result"
    }
   ],
   "source": [
    "# Tuples are created with commas, as opposed to round brackets.\n",
    "T = 1, 2, 3, 4\n",
    "T "
   ]
  },
  {
   "cell_type": "code",
   "execution_count": 18,
   "id": "8199d6f2",
   "metadata": {},
   "outputs": [],
   "source": [
    "# You can use tuples for assignment.\n",
    "a, b = 3, 4"
   ]
  },
  {
   "cell_type": "code",
   "execution_count": 19,
   "id": "8ecf8492",
   "metadata": {},
   "outputs": [
    {
     "data": {
      "text/plain": [
       "3"
      ]
     },
     "execution_count": 19,
     "metadata": {},
     "output_type": "execute_result"
    }
   ],
   "source": [
    "a"
   ]
  },
  {
   "cell_type": "code",
   "execution_count": 20,
   "id": "82885678",
   "metadata": {},
   "outputs": [
    {
     "data": {
      "text/plain": [
       "4"
      ]
     },
     "execution_count": 20,
     "metadata": {},
     "output_type": "execute_result"
    }
   ],
   "source": [
    "b"
   ]
  },
  {
   "cell_type": "code",
   "execution_count": 21,
   "id": "2aa3e210",
   "metadata": {},
   "outputs": [],
   "source": [
    "# Nice trick for swapping two values.\n",
    "a, b = b, a"
   ]
  },
  {
   "cell_type": "code",
   "execution_count": 22,
   "id": "b10d7d93",
   "metadata": {},
   "outputs": [
    {
     "data": {
      "text/plain": [
       "4"
      ]
     },
     "execution_count": 22,
     "metadata": {},
     "output_type": "execute_result"
    }
   ],
   "source": [
    "a"
   ]
  },
  {
   "cell_type": "code",
   "execution_count": 23,
   "id": "a170102c",
   "metadata": {},
   "outputs": [
    {
     "data": {
      "text/plain": [
       "3"
      ]
     },
     "execution_count": 23,
     "metadata": {},
     "output_type": "execute_result"
    }
   ],
   "source": [
    "b"
   ]
  },
  {
   "cell_type": "code",
   "execution_count": 24,
   "id": "d74c7e29",
   "metadata": {},
   "outputs": [
    {
     "data": {
      "text/plain": [
       "[0, 1, 2, 3, 4, 5, 6, 7, 8, 9]"
      ]
     },
     "execution_count": 24,
     "metadata": {},
     "output_type": "execute_result"
    }
   ],
   "source": [
    "# List of integers.\n",
    "L = list(range(10))\n",
    "L"
   ]
  },
  {
   "cell_type": "code",
   "execution_count": 25,
   "id": "6a6965c7",
   "metadata": {},
   "outputs": [
    {
     "data": {
      "text/plain": [
       "[0, 8, 64, 216, 512]"
      ]
     },
     "execution_count": 25,
     "metadata": {},
     "output_type": "execute_result"
    }
   ],
   "source": [
    "# List comprehension.\n",
    "[i**3 for i in L if i % 2 == 0]"
   ]
  },
  {
   "cell_type": "code",
   "execution_count": 26,
   "id": "ec9dccda",
   "metadata": {},
   "outputs": [
    {
     "data": {
      "text/plain": [
       "[9, 8, 7, 6, 5, 4, 3, 2, 1, 0]"
      ]
     },
     "execution_count": 26,
     "metadata": {},
     "output_type": "execute_result"
    }
   ],
   "source": [
    "# Curve ball.\n",
    "L[::-1]"
   ]
  },
  {
   "cell_type": "markdown",
   "id": "c1383139",
   "metadata": {},
   "source": [
    "<br>\n",
    "\n",
    "## Bubble Sort\n",
    "\n",
    "***"
   ]
  },
  {
   "cell_type": "code",
   "execution_count": 27,
   "id": "5dd08c6d",
   "metadata": {},
   "outputs": [],
   "source": [
    "# Import a module from the standard library.\n",
    "import random"
   ]
  },
  {
   "cell_type": "code",
   "execution_count": 28,
   "id": "5c3602f5",
   "metadata": {},
   "outputs": [
    {
     "data": {
      "text/plain": [
       "[1, 2, 3, 4, 5, 6, 7, 8, 9, 10]"
      ]
     },
     "execution_count": 28,
     "metadata": {},
     "output_type": "execute_result"
    }
   ],
   "source": [
    "# Create a list of integers.\n",
    "L = list(range(1, 11))\n",
    "L"
   ]
  },
  {
   "cell_type": "code",
   "execution_count": 29,
   "id": "4bcc3b8a",
   "metadata": {},
   "outputs": [],
   "source": [
    "# Shuffle the list.\n",
    "random.shuffle(L)"
   ]
  },
  {
   "cell_type": "code",
   "execution_count": 30,
   "id": "34b8f2fb",
   "metadata": {},
   "outputs": [
    {
     "data": {
      "text/plain": [
       "[4, 8, 1, 7, 6, 10, 5, 9, 2, 3]"
      ]
     },
     "execution_count": 30,
     "metadata": {},
     "output_type": "execute_result"
    }
   ],
   "source": [
    "# The list is shuffled.\n",
    "L"
   ]
  },
  {
   "cell_type": "code",
   "execution_count": 31,
   "id": "ded54325",
   "metadata": {},
   "outputs": [],
   "source": [
    "# Bubble sort.\n",
    "\n",
    "# Keep track of number of comparisons.\n",
    "no_comparisons = 0\n",
    "\n",
    "# Bubble every (biggest) element up.\n",
    "for j in range(len(L) - 1):\n",
    "    # Keep track of any swaps.\n",
    "    swapped = False\n",
    "    # Compare all elements that are side by side.\n",
    "    for i in range(len(L) - 1):\n",
    "        # Compare the ith element with the (i+1)th.\n",
    "        if L[i] > L[i+1]:\n",
    "            # Swap the elements.\n",
    "            L[i], L[i+1] = L[i+1], L[i]\n",
    "            # Keep track of the swap.\n",
    "            swapped = True\n",
    "        # Add a comparison.\n",
    "        no_comparisons = no_comparisons + 1\n",
    "    # Quit if we didn't make any swaps.\n",
    "    if not swapped:\n",
    "        break"
   ]
  },
  {
   "cell_type": "code",
   "execution_count": 32,
   "id": "b8f25d13",
   "metadata": {},
   "outputs": [
    {
     "data": {
      "text/plain": [
       "[1, 2, 3, 4, 5, 6, 7, 8, 9, 10]"
      ]
     },
     "execution_count": 32,
     "metadata": {},
     "output_type": "execute_result"
    }
   ],
   "source": [
    "L"
   ]
  },
  {
   "cell_type": "code",
   "execution_count": 33,
   "id": "63687853",
   "metadata": {},
   "outputs": [
    {
     "data": {
      "text/plain": [
       "72"
      ]
     },
     "execution_count": 33,
     "metadata": {},
     "output_type": "execute_result"
    }
   ],
   "source": [
    "no_comparisons"
   ]
  },
  {
   "cell_type": "code",
   "execution_count": 34,
   "id": "9b00a03a",
   "metadata": {},
   "outputs": [],
   "source": [
    "# Bubble sort as a function.\n",
    "\n",
    "def bubble_sort(L):\n",
    "    # Keep track of number of comparisons.\n",
    "    no_comparisons = 0\n",
    "\n",
    "    # Bubble every (biggest) element up.\n",
    "    for j in range(len(L) - 1):\n",
    "        # Keep track of any swaps.\n",
    "        swapped = False\n",
    "        # Compare all elements that are side by side.\n",
    "        for i in range(len(L) - 1 - j):\n",
    "            # Compare the ith element with the (i+1)th.\n",
    "            if L[i] > L[i+1]:\n",
    "                # Swap the elements.\n",
    "                L[i], L[i+1] = L[i+1], L[i]\n",
    "                # Keep track of the swap.\n",
    "                swapped = True\n",
    "            # Add a comparison.\n",
    "            no_comparisons = no_comparisons + 1\n",
    "        # Quit if we didn't make any swaps.\n",
    "        if not swapped:\n",
    "            break\n",
    "    # Return the number of comparisons made.\n",
    "    return no_comparisons"
   ]
  },
  {
   "cell_type": "code",
   "execution_count": 35,
   "id": "3bda9567",
   "metadata": {},
   "outputs": [
    {
     "data": {
      "text/plain": [
       "[6, 2, 3, 1, 4, 8, 5, 10, 7, 9]"
      ]
     },
     "execution_count": 35,
     "metadata": {},
     "output_type": "execute_result"
    }
   ],
   "source": [
    "# Create a list.\n",
    "L = list(range(1, 11))\n",
    "\n",
    "# Shuffle it.\n",
    "random.shuffle(L)\n",
    "\n",
    "# Look at it.\n",
    "L"
   ]
  },
  {
   "cell_type": "code",
   "execution_count": 36,
   "id": "ac5970b6",
   "metadata": {},
   "outputs": [
    {
     "data": {
      "text/plain": [
       "30"
      ]
     },
     "execution_count": 36,
     "metadata": {},
     "output_type": "execute_result"
    }
   ],
   "source": [
    "# The function works on L in place.\n",
    "bubble_sort(L)"
   ]
  },
  {
   "cell_type": "code",
   "execution_count": 37,
   "id": "aee1e0f3",
   "metadata": {},
   "outputs": [
    {
     "data": {
      "text/plain": [
       "[1, 2, 3, 4, 5, 6, 7, 8, 9, 10]"
      ]
     },
     "execution_count": 37,
     "metadata": {},
     "output_type": "execute_result"
    }
   ],
   "source": [
    "L"
   ]
  },
  {
   "cell_type": "code",
   "execution_count": 38,
   "id": "bca9a929",
   "metadata": {},
   "outputs": [
    {
     "data": {
      "text/plain": [
       "9"
      ]
     },
     "execution_count": 38,
     "metadata": {},
     "output_type": "execute_result"
    }
   ],
   "source": [
    "# Once the list is sorted - bubble sort is O(n)\n",
    "bubble_sort(L)"
   ]
  },
  {
   "cell_type": "code",
   "execution_count": 39,
   "id": "bee9013a",
   "metadata": {},
   "outputs": [
    {
     "data": {
      "text/plain": [
       "[10, 9, 8, 7, 6, 5, 4, 3, 2, 1]"
      ]
     },
     "execution_count": 39,
     "metadata": {},
     "output_type": "execute_result"
    }
   ],
   "source": [
    "# The worst case for bubble sort.\n",
    "L[::-1]"
   ]
  },
  {
   "cell_type": "code",
   "execution_count": 40,
   "id": "ea814a95",
   "metadata": {},
   "outputs": [
    {
     "data": {
      "text/plain": [
       "45"
      ]
     },
     "execution_count": 40,
     "metadata": {},
     "output_type": "execute_result"
    }
   ],
   "source": [
    "# This is still O(n^2).\n",
    "bubble_sort(L[::-1])"
   ]
  },
  {
   "cell_type": "markdown",
   "id": "5af64350",
   "metadata": {},
   "source": [
    "<br>\n",
    "\n",
    "## Heap Sort\n",
    "\n",
    "***"
   ]
  },
  {
   "cell_type": "markdown",
   "id": "54bde5f5",
   "metadata": {},
   "source": [
    "### Transplanted from Wikipedia\n",
    "\n",
    "https://en.m.wikipedia.org/wiki/Heapsort"
   ]
  },
  {
   "cell_type": "code",
   "execution_count": 41,
   "id": "4c6ec7b4",
   "metadata": {},
   "outputs": [],
   "source": [
    "def heapify(a, count):\n",
    "    start = (count - 2) // 2 #math.floor((count - 2) // 2) #((count - (count % 2)) / 2) - 1 #iParent(count - 1)\n",
    "    \n",
    "    while start >= 0:\n",
    "        siftDown(a, start, count - 1)\n",
    "        start = start - 1"
   ]
  },
  {
   "cell_type": "code",
   "execution_count": 42,
   "id": "ae4e8b94",
   "metadata": {},
   "outputs": [],
   "source": [
    "def siftDown(a, start, end):\n",
    "    root = start\n",
    "    \n",
    "    while (2 * root + 1) <= end:\n",
    "        child = (2 * root + 1)\n",
    "        swap = root\n",
    "        \n",
    "        if a[swap] < a[child]:\n",
    "            swap = child\n",
    "        if child + 1 <= end and a[swap] < a[child + 1]:\n",
    "            swap = child + 1\n",
    "        if swap == root:\n",
    "            return\n",
    "        else:\n",
    "            a[root], a[swap] = a[swap], a[root]\n",
    "            root = swap"
   ]
  },
  {
   "cell_type": "code",
   "execution_count": 43,
   "id": "37dc69ee",
   "metadata": {},
   "outputs": [],
   "source": [
    "def heapsort(a):\n",
    "    count = len(a)\n",
    "    heapify(a, count)\n",
    "    end = count - 1\n",
    "    \n",
    "    while end > 0:\n",
    "        a[0], a[end] = a[end], a[0]\n",
    "        end = end - 1\n",
    "        siftDown(a, 0, end)"
   ]
  },
  {
   "cell_type": "code",
   "execution_count": 44,
   "id": "13d360a0",
   "metadata": {},
   "outputs": [
    {
     "data": {
      "text/plain": [
       "[5, 1, 3, 7, 8, 9, 2]"
      ]
     },
     "execution_count": 44,
     "metadata": {},
     "output_type": "execute_result"
    }
   ],
   "source": [
    "L = [5,1,3,7,8,9,2]\n",
    "L"
   ]
  },
  {
   "cell_type": "code",
   "execution_count": 45,
   "id": "2130c025",
   "metadata": {},
   "outputs": [
    {
     "data": {
      "text/plain": [
       "[1, 2, 3, 5, 7, 8, 9]"
      ]
     },
     "execution_count": 45,
     "metadata": {},
     "output_type": "execute_result"
    }
   ],
   "source": [
    "heapsort(L)\n",
    "L"
   ]
  },
  {
   "cell_type": "code",
   "execution_count": 46,
   "id": "1c606375",
   "metadata": {},
   "outputs": [
    {
     "name": "stdout",
     "output_type": "stream",
     "text": [
      "(0, 1, 2, 3, 4) -> [0, 1, 2, 3, 4]\n",
      "(0, 1, 2, 4, 3) -> [0, 1, 2, 3, 4]\n",
      "(0, 1, 3, 2, 4) -> [0, 1, 2, 3, 4]\n",
      "(0, 1, 3, 4, 2) -> [0, 1, 2, 3, 4]\n",
      "(0, 1, 4, 2, 3) -> [0, 1, 2, 3, 4]\n",
      "(0, 1, 4, 3, 2) -> [0, 1, 2, 3, 4]\n",
      "(0, 2, 1, 3, 4) -> [0, 1, 2, 3, 4]\n",
      "(0, 2, 1, 4, 3) -> [0, 1, 2, 3, 4]\n",
      "(0, 2, 3, 1, 4) -> [0, 1, 2, 3, 4]\n",
      "(0, 2, 3, 4, 1) -> [0, 1, 2, 3, 4]\n",
      "(0, 2, 4, 1, 3) -> [0, 1, 2, 3, 4]\n",
      "(0, 2, 4, 3, 1) -> [0, 1, 2, 3, 4]\n",
      "(0, 3, 1, 2, 4) -> [0, 1, 2, 3, 4]\n",
      "(0, 3, 1, 4, 2) -> [0, 1, 2, 3, 4]\n",
      "(0, 3, 2, 1, 4) -> [0, 1, 2, 3, 4]\n",
      "(0, 3, 2, 4, 1) -> [0, 1, 2, 3, 4]\n",
      "(0, 3, 4, 1, 2) -> [0, 1, 2, 3, 4]\n",
      "(0, 3, 4, 2, 1) -> [0, 1, 2, 3, 4]\n",
      "(0, 4, 1, 2, 3) -> [0, 1, 2, 3, 4]\n",
      "(0, 4, 1, 3, 2) -> [0, 1, 2, 3, 4]\n",
      "(0, 4, 2, 1, 3) -> [0, 1, 2, 3, 4]\n",
      "(0, 4, 2, 3, 1) -> [0, 1, 2, 3, 4]\n",
      "(0, 4, 3, 1, 2) -> [0, 1, 2, 3, 4]\n",
      "(0, 4, 3, 2, 1) -> [0, 1, 2, 3, 4]\n",
      "(1, 0, 2, 3, 4) -> [0, 1, 2, 3, 4]\n",
      "(1, 0, 2, 4, 3) -> [0, 1, 2, 3, 4]\n",
      "(1, 0, 3, 2, 4) -> [0, 1, 2, 3, 4]\n",
      "(1, 0, 3, 4, 2) -> [0, 1, 2, 3, 4]\n",
      "(1, 0, 4, 2, 3) -> [0, 1, 2, 3, 4]\n",
      "(1, 0, 4, 3, 2) -> [0, 1, 2, 3, 4]\n",
      "(1, 2, 0, 3, 4) -> [0, 1, 2, 3, 4]\n",
      "(1, 2, 0, 4, 3) -> [0, 1, 2, 3, 4]\n",
      "(1, 2, 3, 0, 4) -> [0, 1, 2, 3, 4]\n",
      "(1, 2, 3, 4, 0) -> [0, 1, 2, 3, 4]\n",
      "(1, 2, 4, 0, 3) -> [0, 1, 2, 3, 4]\n",
      "(1, 2, 4, 3, 0) -> [0, 1, 2, 3, 4]\n",
      "(1, 3, 0, 2, 4) -> [0, 1, 2, 3, 4]\n",
      "(1, 3, 0, 4, 2) -> [0, 1, 2, 3, 4]\n",
      "(1, 3, 2, 0, 4) -> [0, 1, 2, 3, 4]\n",
      "(1, 3, 2, 4, 0) -> [0, 1, 2, 3, 4]\n",
      "(1, 3, 4, 0, 2) -> [0, 1, 2, 3, 4]\n",
      "(1, 3, 4, 2, 0) -> [0, 1, 2, 3, 4]\n",
      "(1, 4, 0, 2, 3) -> [0, 1, 2, 3, 4]\n",
      "(1, 4, 0, 3, 2) -> [0, 1, 2, 3, 4]\n",
      "(1, 4, 2, 0, 3) -> [0, 1, 2, 3, 4]\n",
      "(1, 4, 2, 3, 0) -> [0, 1, 2, 3, 4]\n",
      "(1, 4, 3, 0, 2) -> [0, 1, 2, 3, 4]\n",
      "(1, 4, 3, 2, 0) -> [0, 1, 2, 3, 4]\n",
      "(2, 0, 1, 3, 4) -> [0, 1, 2, 3, 4]\n",
      "(2, 0, 1, 4, 3) -> [0, 1, 2, 3, 4]\n",
      "(2, 0, 3, 1, 4) -> [0, 1, 2, 3, 4]\n",
      "(2, 0, 3, 4, 1) -> [0, 1, 2, 3, 4]\n",
      "(2, 0, 4, 1, 3) -> [0, 1, 2, 3, 4]\n",
      "(2, 0, 4, 3, 1) -> [0, 1, 2, 3, 4]\n",
      "(2, 1, 0, 3, 4) -> [0, 1, 2, 3, 4]\n",
      "(2, 1, 0, 4, 3) -> [0, 1, 2, 3, 4]\n",
      "(2, 1, 3, 0, 4) -> [0, 1, 2, 3, 4]\n",
      "(2, 1, 3, 4, 0) -> [0, 1, 2, 3, 4]\n",
      "(2, 1, 4, 0, 3) -> [0, 1, 2, 3, 4]\n",
      "(2, 1, 4, 3, 0) -> [0, 1, 2, 3, 4]\n",
      "(2, 3, 0, 1, 4) -> [0, 1, 2, 3, 4]\n",
      "(2, 3, 0, 4, 1) -> [0, 1, 2, 3, 4]\n",
      "(2, 3, 1, 0, 4) -> [0, 1, 2, 3, 4]\n",
      "(2, 3, 1, 4, 0) -> [0, 1, 2, 3, 4]\n",
      "(2, 3, 4, 0, 1) -> [0, 1, 2, 3, 4]\n",
      "(2, 3, 4, 1, 0) -> [0, 1, 2, 3, 4]\n",
      "(2, 4, 0, 1, 3) -> [0, 1, 2, 3, 4]\n",
      "(2, 4, 0, 3, 1) -> [0, 1, 2, 3, 4]\n",
      "(2, 4, 1, 0, 3) -> [0, 1, 2, 3, 4]\n",
      "(2, 4, 1, 3, 0) -> [0, 1, 2, 3, 4]\n",
      "(2, 4, 3, 0, 1) -> [0, 1, 2, 3, 4]\n",
      "(2, 4, 3, 1, 0) -> [0, 1, 2, 3, 4]\n",
      "(3, 0, 1, 2, 4) -> [0, 1, 2, 3, 4]\n",
      "(3, 0, 1, 4, 2) -> [0, 1, 2, 3, 4]\n",
      "(3, 0, 2, 1, 4) -> [0, 1, 2, 3, 4]\n",
      "(3, 0, 2, 4, 1) -> [0, 1, 2, 3, 4]\n",
      "(3, 0, 4, 1, 2) -> [0, 1, 2, 3, 4]\n",
      "(3, 0, 4, 2, 1) -> [0, 1, 2, 3, 4]\n",
      "(3, 1, 0, 2, 4) -> [0, 1, 2, 3, 4]\n",
      "(3, 1, 0, 4, 2) -> [0, 1, 2, 3, 4]\n",
      "(3, 1, 2, 0, 4) -> [0, 1, 2, 3, 4]\n",
      "(3, 1, 2, 4, 0) -> [0, 1, 2, 3, 4]\n",
      "(3, 1, 4, 0, 2) -> [0, 1, 2, 3, 4]\n",
      "(3, 1, 4, 2, 0) -> [0, 1, 2, 3, 4]\n",
      "(3, 2, 0, 1, 4) -> [0, 1, 2, 3, 4]\n",
      "(3, 2, 0, 4, 1) -> [0, 1, 2, 3, 4]\n",
      "(3, 2, 1, 0, 4) -> [0, 1, 2, 3, 4]\n",
      "(3, 2, 1, 4, 0) -> [0, 1, 2, 3, 4]\n",
      "(3, 2, 4, 0, 1) -> [0, 1, 2, 3, 4]\n",
      "(3, 2, 4, 1, 0) -> [0, 1, 2, 3, 4]\n",
      "(3, 4, 0, 1, 2) -> [0, 1, 2, 3, 4]\n",
      "(3, 4, 0, 2, 1) -> [0, 1, 2, 3, 4]\n",
      "(3, 4, 1, 0, 2) -> [0, 1, 2, 3, 4]\n",
      "(3, 4, 1, 2, 0) -> [0, 1, 2, 3, 4]\n",
      "(3, 4, 2, 0, 1) -> [0, 1, 2, 3, 4]\n",
      "(3, 4, 2, 1, 0) -> [0, 1, 2, 3, 4]\n",
      "(4, 0, 1, 2, 3) -> [0, 1, 2, 3, 4]\n",
      "(4, 0, 1, 3, 2) -> [0, 1, 2, 3, 4]\n",
      "(4, 0, 2, 1, 3) -> [0, 1, 2, 3, 4]\n",
      "(4, 0, 2, 3, 1) -> [0, 1, 2, 3, 4]\n",
      "(4, 0, 3, 1, 2) -> [0, 1, 2, 3, 4]\n",
      "(4, 0, 3, 2, 1) -> [0, 1, 2, 3, 4]\n",
      "(4, 1, 0, 2, 3) -> [0, 1, 2, 3, 4]\n",
      "(4, 1, 0, 3, 2) -> [0, 1, 2, 3, 4]\n",
      "(4, 1, 2, 0, 3) -> [0, 1, 2, 3, 4]\n",
      "(4, 1, 2, 3, 0) -> [0, 1, 2, 3, 4]\n",
      "(4, 1, 3, 0, 2) -> [0, 1, 2, 3, 4]\n",
      "(4, 1, 3, 2, 0) -> [0, 1, 2, 3, 4]\n",
      "(4, 2, 0, 1, 3) -> [0, 1, 2, 3, 4]\n",
      "(4, 2, 0, 3, 1) -> [0, 1, 2, 3, 4]\n",
      "(4, 2, 1, 0, 3) -> [0, 1, 2, 3, 4]\n",
      "(4, 2, 1, 3, 0) -> [0, 1, 2, 3, 4]\n",
      "(4, 2, 3, 0, 1) -> [0, 1, 2, 3, 4]\n",
      "(4, 2, 3, 1, 0) -> [0, 1, 2, 3, 4]\n",
      "(4, 3, 0, 1, 2) -> [0, 1, 2, 3, 4]\n",
      "(4, 3, 0, 2, 1) -> [0, 1, 2, 3, 4]\n",
      "(4, 3, 1, 0, 2) -> [0, 1, 2, 3, 4]\n",
      "(4, 3, 1, 2, 0) -> [0, 1, 2, 3, 4]\n",
      "(4, 3, 2, 0, 1) -> [0, 1, 2, 3, 4]\n",
      "(4, 3, 2, 1, 0) -> [0, 1, 2, 3, 4]\n"
     ]
    }
   ],
   "source": [
    "import itertools\n",
    "\n",
    "for perm in itertools.permutations(range(5)):\n",
    "    L = list(perm)\n",
    "    heapsort(L)\n",
    "    print(f'{perm} -> {L}') #print(perm, '->', L)"
   ]
  },
  {
   "cell_type": "markdown",
   "id": "90f7f5dc",
   "metadata": {},
   "source": [
    "***\n",
    "\n",
    "## End"
   ]
  }
 ],
 "metadata": {
  "kernelspec": {
   "display_name": "Python 3 (ipykernel)",
   "language": "python",
   "name": "python3"
  },
  "language_info": {
   "codemirror_mode": {
    "name": "ipython",
    "version": 3
   },
   "file_extension": ".py",
   "mimetype": "text/x-python",
   "name": "python",
   "nbconvert_exporter": "python",
   "pygments_lexer": "ipython3",
   "version": "3.9.7"
  }
 },
 "nbformat": 4,
 "nbformat_minor": 5
}
