{
 "cells": [
  {
   "cell_type": "markdown",
   "id": "fa673f46",
   "metadata": {},
   "source": [
    "# Heap Sort\n",
    "\n",
    "***"
   ]
  },
  {
   "cell_type": "markdown",
   "id": "2fd4db1c",
   "metadata": {},
   "source": [
    "## Lists in Python\n",
    "\n",
    "***"
   ]
  },
  {
   "cell_type": "code",
   "execution_count": 1,
   "id": "cf1e10c1",
   "metadata": {},
   "outputs": [],
   "source": [
    "# Lists in Python can be created with square bracket notation.\n",
    "L = [1, 2, 3, \"Hello, world!\", None, True]"
   ]
  },
  {
   "cell_type": "code",
   "execution_count": 2,
   "id": "27bc9be5",
   "metadata": {},
   "outputs": [
    {
     "data": {
      "text/plain": [
       "True"
      ]
     },
     "execution_count": 2,
     "metadata": {},
     "output_type": "execute_result"
    }
   ],
   "source": [
    "# They are zero indexed, as usual.\n",
    "L[5]"
   ]
  },
  {
   "cell_type": "code",
   "execution_count": 3,
   "id": "4a56898e",
   "metadata": {},
   "outputs": [
    {
     "data": {
      "text/plain": [
       "[1, 2, 3]"
      ]
     },
     "execution_count": 3,
     "metadata": {},
     "output_type": "execute_result"
    }
   ],
   "source": [
    "# Create Lists with the list() function.\n",
    "list({1, 2, 3, 3})"
   ]
  },
  {
   "cell_type": "code",
   "execution_count": 4,
   "id": "01f72397",
   "metadata": {},
   "outputs": [
    {
     "data": {
      "text/plain": [
       "True"
      ]
     },
     "execution_count": 4,
     "metadata": {},
     "output_type": "execute_result"
    }
   ],
   "source": [
    "# Using negative indexes.\n",
    "L[-1]"
   ]
  },
  {
   "cell_type": "code",
   "execution_count": 5,
   "id": "a9feffb5",
   "metadata": {},
   "outputs": [
    {
     "data": {
      "text/plain": [
       "'Hello, world!'"
      ]
     },
     "execution_count": 5,
     "metadata": {},
     "output_type": "execute_result"
    }
   ],
   "source": [
    "# Third last element.\n",
    "L[-3]"
   ]
  },
  {
   "cell_type": "code",
   "execution_count": 6,
   "id": "3af2102d",
   "metadata": {},
   "outputs": [
    {
     "data": {
      "text/plain": [
       "[0, 2, 4, 6, 8, 10, 12, 14, 16, 18]"
      ]
     },
     "execution_count": 6,
     "metadata": {},
     "output_type": "execute_result"
    }
   ],
   "source": [
    "# In-built functions for creating iterables.\n",
    "list(range(0, 20, 2))"
   ]
  },
  {
   "cell_type": "code",
   "execution_count": 7,
   "id": "0913a2c4",
   "metadata": {},
   "outputs": [
    {
     "data": {
      "text/plain": [
       "[0, 1, 2, 3, 4, 5, 6, 7, 8, 9, 10, 11, 12, 13, 14, 15, 16, 17, 18, 19]"
      ]
     },
     "execution_count": 7,
     "metadata": {},
     "output_type": "execute_result"
    }
   ],
   "source": [
    "# In-built functions for creating iterables.\n",
    "L = list(range(20))\n",
    "L"
   ]
  },
  {
   "cell_type": "code",
   "execution_count": 8,
   "id": "e7f70da4",
   "metadata": {},
   "outputs": [
    {
     "data": {
      "text/plain": [
       "[1, 3, 5, 7, 9]"
      ]
     },
     "execution_count": 8,
     "metadata": {},
     "output_type": "execute_result"
    }
   ],
   "source": [
    "# List slicing.\n",
    "L[1:10:2]"
   ]
  },
  {
   "cell_type": "code",
   "execution_count": 9,
   "id": "e233d867",
   "metadata": {},
   "outputs": [
    {
     "data": {
      "text/plain": [
       "[5, 6, 7, 8, 9]"
      ]
     },
     "execution_count": 9,
     "metadata": {},
     "output_type": "execute_result"
    }
   ],
   "source": [
    "# List slicing.\n",
    "L[5:10]"
   ]
  },
  {
   "cell_type": "code",
   "execution_count": 10,
   "id": "0afb665f",
   "metadata": {},
   "outputs": [
    {
     "data": {
      "text/plain": [
       "[5, 6, 7, 8, 9, 10, 11, 12, 13, 14, 15, 16, 17, 18, 19]"
      ]
     },
     "execution_count": 10,
     "metadata": {},
     "output_type": "execute_result"
    }
   ],
   "source": [
    "# List slicing.\n",
    "L[5:]"
   ]
  },
  {
   "cell_type": "code",
   "execution_count": 11,
   "id": "723e9986",
   "metadata": {},
   "outputs": [
    {
     "data": {
      "text/plain": [
       "[0, 1, 2, 3, 4]"
      ]
     },
     "execution_count": 11,
     "metadata": {},
     "output_type": "execute_result"
    }
   ],
   "source": [
    "# List slicing.\n",
    "L[:5]"
   ]
  },
  {
   "cell_type": "code",
   "execution_count": 12,
   "id": "bcb520f6",
   "metadata": {},
   "outputs": [
    {
     "data": {
      "text/plain": [
       "[5, 6, 7, 8, 9, 10, 11, 12, 13, 14, 15, 16, 17, 18, 19, 0, 1, 2, 3, 4]"
      ]
     },
     "execution_count": 12,
     "metadata": {},
     "output_type": "execute_result"
    }
   ],
   "source": [
    "# Quick way to cycle the list to the left.\n",
    "i = 5\n",
    "L[i:] + L[:i]"
   ]
  },
  {
   "cell_type": "code",
   "execution_count": 13,
   "id": "41a2ec0b",
   "metadata": {},
   "outputs": [],
   "source": [
    "# Tuples -- immutable.\n",
    "T = (1, 2, 3, 4)"
   ]
  },
  {
   "cell_type": "code",
   "execution_count": 14,
   "id": "6ec1a329",
   "metadata": {},
   "outputs": [
    {
     "data": {
      "text/plain": [
       "1"
      ]
     },
     "execution_count": 14,
     "metadata": {},
     "output_type": "execute_result"
    }
   ],
   "source": [
    "# Select elements.\n",
    "T[0]"
   ]
  },
  {
   "cell_type": "code",
   "execution_count": 15,
   "id": "e586d623",
   "metadata": {},
   "outputs": [
    {
     "data": {
      "text/plain": [
       "(4,)"
      ]
     },
     "execution_count": 15,
     "metadata": {},
     "output_type": "execute_result"
    }
   ],
   "source": [
    "# Slice.\n",
    "T[3:]"
   ]
  },
  {
   "cell_type": "code",
   "execution_count": 16,
   "id": "b99be095",
   "metadata": {},
   "outputs": [],
   "source": [
    "# Can't assign - would give an error\n",
    "# T[2] = 100"
   ]
  },
  {
   "cell_type": "code",
   "execution_count": 17,
   "id": "49afbee6",
   "metadata": {},
   "outputs": [
    {
     "data": {
      "text/plain": [
       "(1, 2, 3, 4)"
      ]
     },
     "execution_count": 17,
     "metadata": {},
     "output_type": "execute_result"
    }
   ],
   "source": [
    "# Tuples are created with commas, as opposed to round brackets.\n",
    "T = 1, 2, 3, 4\n",
    "T "
   ]
  },
  {
   "cell_type": "code",
   "execution_count": 18,
   "id": "8199d6f2",
   "metadata": {},
   "outputs": [],
   "source": [
    "# You can use tuples for assignment.\n",
    "a, b = 3, 4"
   ]
  },
  {
   "cell_type": "code",
   "execution_count": 19,
   "id": "8ecf8492",
   "metadata": {},
   "outputs": [
    {
     "data": {
      "text/plain": [
       "3"
      ]
     },
     "execution_count": 19,
     "metadata": {},
     "output_type": "execute_result"
    }
   ],
   "source": [
    "a"
   ]
  },
  {
   "cell_type": "code",
   "execution_count": 20,
   "id": "82885678",
   "metadata": {},
   "outputs": [
    {
     "data": {
      "text/plain": [
       "4"
      ]
     },
     "execution_count": 20,
     "metadata": {},
     "output_type": "execute_result"
    }
   ],
   "source": [
    "b"
   ]
  },
  {
   "cell_type": "code",
   "execution_count": 21,
   "id": "2aa3e210",
   "metadata": {},
   "outputs": [],
   "source": [
    "# Nice trick for swapping two values.\n",
    "a, b = b, a"
   ]
  },
  {
   "cell_type": "code",
   "execution_count": 22,
   "id": "b10d7d93",
   "metadata": {},
   "outputs": [
    {
     "data": {
      "text/plain": [
       "4"
      ]
     },
     "execution_count": 22,
     "metadata": {},
     "output_type": "execute_result"
    }
   ],
   "source": [
    "a"
   ]
  },
  {
   "cell_type": "code",
   "execution_count": 23,
   "id": "a170102c",
   "metadata": {},
   "outputs": [
    {
     "data": {
      "text/plain": [
       "3"
      ]
     },
     "execution_count": 23,
     "metadata": {},
     "output_type": "execute_result"
    }
   ],
   "source": [
    "b"
   ]
  },
  {
   "cell_type": "code",
   "execution_count": 24,
   "id": "d74c7e29",
   "metadata": {},
   "outputs": [
    {
     "data": {
      "text/plain": [
       "[0, 1, 2, 3, 4, 5, 6, 7, 8, 9]"
      ]
     },
     "execution_count": 24,
     "metadata": {},
     "output_type": "execute_result"
    }
   ],
   "source": [
    "# List of integers.\n",
    "L = list(range(10))\n",
    "L"
   ]
  },
  {
   "cell_type": "code",
   "execution_count": 25,
   "id": "6a6965c7",
   "metadata": {},
   "outputs": [
    {
     "data": {
      "text/plain": [
       "[0, 8, 64, 216, 512]"
      ]
     },
     "execution_count": 25,
     "metadata": {},
     "output_type": "execute_result"
    }
   ],
   "source": [
    "# List comprehension.\n",
    "[i**3 for i in L if i % 2 == 0]"
   ]
  },
  {
   "cell_type": "code",
   "execution_count": 26,
   "id": "ec9dccda",
   "metadata": {},
   "outputs": [
    {
     "data": {
      "text/plain": [
       "[9, 8, 7, 6, 5, 4, 3, 2, 1, 0]"
      ]
     },
     "execution_count": 26,
     "metadata": {},
     "output_type": "execute_result"
    }
   ],
   "source": [
    "# Curve ball.\n",
    "L[::-1]"
   ]
  },
  {
   "cell_type": "markdown",
   "id": "c1383139",
   "metadata": {},
   "source": [
    "<br>\n",
    "\n",
    "## Bubble Sort\n",
    "\n",
    "***"
   ]
  },
  {
   "cell_type": "code",
   "execution_count": 27,
   "id": "5dd08c6d",
   "metadata": {},
   "outputs": [],
   "source": [
    "# Import a module from the standard library.\n",
    "import random"
   ]
  },
  {
   "cell_type": "code",
   "execution_count": 28,
   "id": "5c3602f5",
   "metadata": {},
   "outputs": [
    {
     "data": {
      "text/plain": [
       "[1, 2, 3, 4, 5, 6, 7, 8, 9, 10]"
      ]
     },
     "execution_count": 28,
     "metadata": {},
     "output_type": "execute_result"
    }
   ],
   "source": [
    "# Create a list of integers.\n",
    "L = list(range(1, 11))\n",
    "L"
   ]
  },
  {
   "cell_type": "code",
   "execution_count": 29,
   "id": "4bcc3b8a",
   "metadata": {},
   "outputs": [],
   "source": [
    "# Shuffle the list.\n",
    "random.shuffle(L)"
   ]
  },
  {
   "cell_type": "code",
   "execution_count": 30,
   "id": "34b8f2fb",
   "metadata": {},
   "outputs": [
    {
     "data": {
      "text/plain": [
       "[8, 1, 2, 4, 9, 6, 3, 7, 5, 10]"
      ]
     },
     "execution_count": 30,
     "metadata": {},
     "output_type": "execute_result"
    }
   ],
   "source": [
    "# The list is shuffled.\n",
    "L"
   ]
  },
  {
   "cell_type": "code",
   "execution_count": 31,
   "id": "ded54325",
   "metadata": {},
   "outputs": [],
   "source": [
    "# Bubble sort.\n",
    "\n",
    "# Keep track of number of comparisons.\n",
    "no_comparisons = 0\n",
    "\n",
    "# Bubble every (biggest) element up.\n",
    "for j in range(len(L) - 1):\n",
    "    # Keep track of any swaps.\n",
    "    swapped = False\n",
    "    # Compare all elements that are side by side.\n",
    "    for i in range(len(L) - 1):\n",
    "        # Compare the ith element with the (i+1)th.\n",
    "        if L[i] > L[i+1]:\n",
    "            # Swap the elements.\n",
    "            L[i], L[i+1] = L[i+1], L[i]\n",
    "            # Keep track of the swap.\n",
    "            swapped = True\n",
    "        # Add a comparison.\n",
    "        no_comparisons = no_comparisons + 1\n",
    "    # Quit if we didn't make any swaps.\n",
    "    if not swapped:\n",
    "        break"
   ]
  },
  {
   "cell_type": "code",
   "execution_count": 32,
   "id": "b8f25d13",
   "metadata": {},
   "outputs": [
    {
     "data": {
      "text/plain": [
       "[1, 2, 3, 4, 5, 6, 7, 8, 9, 10]"
      ]
     },
     "execution_count": 32,
     "metadata": {},
     "output_type": "execute_result"
    }
   ],
   "source": [
    "L"
   ]
  },
  {
   "cell_type": "code",
   "execution_count": 33,
   "id": "63687853",
   "metadata": {},
   "outputs": [
    {
     "data": {
      "text/plain": [
       "45"
      ]
     },
     "execution_count": 33,
     "metadata": {},
     "output_type": "execute_result"
    }
   ],
   "source": [
    "no_comparisons"
   ]
  },
  {
   "cell_type": "code",
   "execution_count": 34,
   "id": "9b00a03a",
   "metadata": {},
   "outputs": [],
   "source": [
    "# Bubble sort as a function.\n",
    "\n",
    "def bubble_sort(L):\n",
    "    # Keep track of number of comparisons.\n",
    "    no_comparisons = 0\n",
    "\n",
    "    # Bubble every (biggest) element up.\n",
    "    for j in range(len(L) - 1):\n",
    "        # Keep track of any swaps.\n",
    "        swapped = False\n",
    "        # Compare all elements that are side by side.\n",
    "        for i in range(len(L) - 1 - j):\n",
    "            # Compare the ith element with the (i+1)th.\n",
    "            if L[i] > L[i+1]:\n",
    "                # Swap the elements.\n",
    "                L[i], L[i+1] = L[i+1], L[i]\n",
    "                # Keep track of the swap.\n",
    "                swapped = True\n",
    "            # Add a comparison.\n",
    "            no_comparisons = no_comparisons + 1\n",
    "        # Quit if we didn't make any swaps.\n",
    "        if not swapped:\n",
    "            break\n",
    "    # Return the number of comparisons made.\n",
    "    return no_comparisons"
   ]
  },
  {
   "cell_type": "code",
   "execution_count": 35,
   "id": "3bda9567",
   "metadata": {},
   "outputs": [
    {
     "data": {
      "text/plain": [
       "[6, 4, 5, 8, 2, 3, 1, 10, 9, 7]"
      ]
     },
     "execution_count": 35,
     "metadata": {},
     "output_type": "execute_result"
    }
   ],
   "source": [
    "# Create a list.\n",
    "L = list(range(1, 11))\n",
    "\n",
    "# Shuffle it.\n",
    "random.shuffle(L)\n",
    "\n",
    "# Look at it.\n",
    "L"
   ]
  },
  {
   "cell_type": "code",
   "execution_count": 36,
   "id": "ac5970b6",
   "metadata": {},
   "outputs": [
    {
     "data": {
      "text/plain": [
       "42"
      ]
     },
     "execution_count": 36,
     "metadata": {},
     "output_type": "execute_result"
    }
   ],
   "source": [
    "# The function works on L in place.\n",
    "bubble_sort(L)"
   ]
  },
  {
   "cell_type": "code",
   "execution_count": 37,
   "id": "aee1e0f3",
   "metadata": {},
   "outputs": [
    {
     "data": {
      "text/plain": [
       "[1, 2, 3, 4, 5, 6, 7, 8, 9, 10]"
      ]
     },
     "execution_count": 37,
     "metadata": {},
     "output_type": "execute_result"
    }
   ],
   "source": [
    "L"
   ]
  },
  {
   "cell_type": "code",
   "execution_count": 38,
   "id": "bca9a929",
   "metadata": {},
   "outputs": [
    {
     "data": {
      "text/plain": [
       "9"
      ]
     },
     "execution_count": 38,
     "metadata": {},
     "output_type": "execute_result"
    }
   ],
   "source": [
    "# Once the list is sorted - bubble sort is O(n)\n",
    "bubble_sort(L)"
   ]
  },
  {
   "cell_type": "code",
   "execution_count": 39,
   "id": "bee9013a",
   "metadata": {},
   "outputs": [
    {
     "data": {
      "text/plain": [
       "[10, 9, 8, 7, 6, 5, 4, 3, 2, 1]"
      ]
     },
     "execution_count": 39,
     "metadata": {},
     "output_type": "execute_result"
    }
   ],
   "source": [
    "# The worst case for bubble sort.\n",
    "L[::-1]"
   ]
  },
  {
   "cell_type": "code",
   "execution_count": 40,
   "id": "ea814a95",
   "metadata": {},
   "outputs": [
    {
     "data": {
      "text/plain": [
       "45"
      ]
     },
     "execution_count": 40,
     "metadata": {},
     "output_type": "execute_result"
    }
   ],
   "source": [
    "# This is still O(n^2).\n",
    "bubble_sort(L[::-1])"
   ]
  },
  {
   "cell_type": "markdown",
   "id": "5af64350",
   "metadata": {},
   "source": [
    "<br>\n",
    "\n",
    "## Heap Sort\n",
    "\n",
    "***"
   ]
  },
  {
   "cell_type": "markdown",
   "id": "54bde5f5",
   "metadata": {},
   "source": [
    "### Transplanted from Wikipedia\n",
    "\n",
    "https://en.m.wikipedia.org/wiki/Heapsort"
   ]
  },
  {
   "cell_type": "markdown",
   "id": "7d90de0d",
   "metadata": {},
   "source": [
    "<img src=\"https://upload.wikimedia.org/wikipedia/commons/thumb/3/38/Max-Heap.svg/330px-Max-Heap.svg.png\" width=\"300px\"></img>"
   ]
  },
  {
   "cell_type": "code",
   "execution_count": 41,
   "id": "ae4e8b94",
   "metadata": {},
   "outputs": [],
   "source": [
    "def siftDown(L, parent, end):\n",
    "    \"\"\"L[:end+1] should almost be a max heap.\n",
    "    siftDown repairs it so that it is one.\"\"\"\n",
    "    \n",
    "    # Keep track of the number of comparisons.\n",
    "    no_comparisons = 0\n",
    "    \n",
    "    # While parent is actually a parent (has at least a left child).\n",
    "    while 2*parent + 1 <= end:\n",
    "        # The indeces of the children of parent.\n",
    "        lchild = 2 * parent + 1\n",
    "        rchild = 2 * parent + 2\n",
    "        \n",
    "        # Assume the parent is larger than the children.\n",
    "        swap = parent\n",
    "        \n",
    "        # Is the parent smaller than the left child?\n",
    "        if L[swap] < L[lchild]:\n",
    "            # Then swap is set to index of left child.\n",
    "            swap = lchild\n",
    "            # Increment no_comparisons.\n",
    "            no_comparisons = no_comparisons + 1\n",
    "        # Check if right child exists and is smaller than L[swap].\n",
    "        if rchild <= end and L[swap] < L[rchild]:\n",
    "            # Then swap is set to index of right child.\n",
    "            swap = rchild\n",
    "            # Increment no_comparisons.\n",
    "            no_comparisons = no_comparisons + 1\n",
    "        # We have a max heap if the parent is bigger than the children.\n",
    "        if swap == parent:\n",
    "            break\n",
    "        else:\n",
    "            # Swap the parent with the bigger child.\n",
    "            L[parent], L[swap] = L[swap], L[parent]\n",
    "            # Set parent to bigger child index.\n",
    "            parent = swap\n",
    "    # Return the number of comparisons.\n",
    "    return no_comparisons"
   ]
  },
  {
   "cell_type": "code",
   "execution_count": 42,
   "id": "37dc69ee",
   "metadata": {},
   "outputs": [],
   "source": [
    "def heapsort(L):\n",
    "    \"\"\"Sorts the list L in-place using Heap Sort.\"\"\"\n",
    "    \n",
    "    # Keep track of the number of comparisons.\n",
    "    no_comparisons = 0\n",
    "    \n",
    "    # Turn L into a max heap.\n",
    "    # Index of the last element.\n",
    "    last_element = len(L) - 1\n",
    "    # Find the last parent.\n",
    "    last_parent = (last_element - 1) // 2 #math.floor((count - 2) // 2) #((count - (count % 2)) / 2) - 1 #iParent(count - 1)\n",
    "    # Loop backwards through all parents.\n",
    "    for parent in range(last_parent, -1, -1):\n",
    "        # Sift down.\n",
    "        no_comparisons = no_comparisons + siftDown(L, parent, last_element)\n",
    "        \n",
    "    # Segregate the list L into two parts:\n",
    "    #   1. L[:end] is a max heap \n",
    "    #   2. Each element beyond end is greater than everything before it.    \n",
    "    # While there are still elements in the heap.\n",
    "    for end in range(last_element, 0, -1):\n",
    "        # Move the element at index 0 with the element at index end.\n",
    "        L[0], L[end] = L[end], L[0]\n",
    "         # Fix the heap - the root is currently out of place.\n",
    "        no_comparisons = no_comparisons + siftDown(L, 0, end - 1)\n",
    "    \n",
    "    # Return the number of comparisons\n",
    "    return no_comparisons"
   ]
  },
  {
   "cell_type": "code",
   "execution_count": 43,
   "id": "13d360a0",
   "metadata": {},
   "outputs": [
    {
     "data": {
      "text/plain": [
       "[19, 100, 36, 25, 3, 17, 7, 1, 2]"
      ]
     },
     "execution_count": 43,
     "metadata": {},
     "output_type": "execute_result"
    }
   ],
   "source": [
    "# The exmaple list from the diagram above.\n",
    "L = [19,100,36,25,3,17,7,1,2]\n",
    "L"
   ]
  },
  {
   "cell_type": "code",
   "execution_count": 44,
   "id": "cf85d259",
   "metadata": {},
   "outputs": [
    {
     "data": {
      "text/plain": [
       "[1, 2, 3, 7, 17, 19, 25, 36, 100]"
      ]
     },
     "execution_count": 44,
     "metadata": {},
     "output_type": "execute_result"
    }
   ],
   "source": [
    "# Show heap sort working.\n",
    "heapsort(L)\n",
    "L"
   ]
  },
  {
   "cell_type": "markdown",
   "id": "31993dc8",
   "metadata": {},
   "source": [
    "<br>\n",
    "\n",
    "## Comparing Algorithms\n",
    "\n",
    "***"
   ]
  },
  {
   "cell_type": "code",
   "execution_count": 45,
   "id": "6cfc6277",
   "metadata": {},
   "outputs": [
    {
     "data": {
      "text/plain": [
       "[19, 100, 36, 25, 3, 17, 7, 1, 2]"
      ]
     },
     "execution_count": 45,
     "metadata": {},
     "output_type": "execute_result"
    }
   ],
   "source": [
    "# The exmaple list from the diagram above.\n",
    "L = [19,100,36,25,3,17,7,1,2]\n",
    "L"
   ]
  },
  {
   "cell_type": "code",
   "execution_count": 46,
   "id": "2130c025",
   "metadata": {},
   "outputs": [
    {
     "data": {
      "text/plain": [
       "([1, 2, 3, 7, 17, 19, 25, 36, 100], 12)"
      ]
     },
     "execution_count": 46,
     "metadata": {},
     "output_type": "execute_result"
    }
   ],
   "source": [
    "# Perform heap sort, show number of comparisons.\n",
    "no_comparisons = heapsort(L)\n",
    "L, no_comparisons"
   ]
  },
  {
   "cell_type": "code",
   "execution_count": 47,
   "id": "477e8f76",
   "metadata": {},
   "outputs": [
    {
     "data": {
      "text/plain": [
       "([1, 2, 3, 7, 17, 19, 25, 36, 100], 36)"
      ]
     },
     "execution_count": 47,
     "metadata": {},
     "output_type": "execute_result"
    }
   ],
   "source": [
    "# Perform bubble sort, show number of comparisons.\n",
    "L = [19,100,36,25,3,17,7,1,2]\n",
    "no_comparisons = bubble_sort(L)\n",
    "L, no_comparisons"
   ]
  },
  {
   "cell_type": "code",
   "execution_count": 48,
   "id": "1c606375",
   "metadata": {},
   "outputs": [
    {
     "name": "stdout",
     "output_type": "stream",
     "text": [
      "0, 1, 2, 3, 4|4|8\n",
      "0, 1, 2, 4, 3|7|9\n",
      "0, 1, 3, 2, 4|7|7\n",
      "0, 1, 3, 4, 2|9|8\n",
      "0, 1, 4, 2, 3|7|8\n",
      "0, 1, 4, 3, 2|9|6\n",
      "0, 2, 1, 3, 4|7|6\n",
      "0, 2, 1, 4, 3|7|7\n",
      "0, 2, 3, 1, 4|9|8\n",
      "0, 2, 3, 4, 1|10|6\n",
      "0, 2, 4, 1, 3|9|6\n",
      "0, 2, 4, 3, 1|10|7\n",
      "0, 3, 1, 2, 4|7|7\n",
      "0, 3, 1, 4, 2|9|5\n",
      "0, 3, 2, 1, 4|9|9\n",
      "0, 3, 2, 4, 1|10|7\n",
      "0, 3, 4, 1, 2|9|5\n",
      "0, 3, 4, 2, 1|10|6\n",
      "0, 4, 1, 2, 3|7|6\n",
      "0, 4, 1, 3, 2|9|4\n",
      "0, 4, 2, 1, 3|9|8\n",
      "0, 4, 2, 3, 1|10|6\n",
      "0, 4, 3, 1, 2|9|7\n",
      "0, 4, 3, 2, 1|10|5\n",
      "1, 0, 2, 3, 4|7|9\n",
      "1, 0, 2, 4, 3|7|7\n",
      "1, 0, 3, 2, 4|7|8\n",
      "1, 0, 3, 4, 2|9|6\n",
      "1, 0, 4, 2, 3|7|7\n",
      "1, 0, 4, 3, 2|9|5\n",
      "1, 2, 0, 3, 4|9|7\n",
      "1, 2, 0, 4, 3|9|8\n",
      "1, 2, 3, 0, 4|10|6\n",
      "1, 2, 3, 4, 0|10|7\n",
      "1, 2, 4, 0, 3|10|5\n",
      "1, 2, 4, 3, 0|10|6\n",
      "1, 3, 0, 2, 4|9|8\n",
      "1, 3, 0, 4, 2|9|6\n",
      "1, 3, 2, 0, 4|10|7\n",
      "1, 3, 2, 4, 0|10|8\n",
      "1, 3, 4, 0, 2|10|4\n",
      "1, 3, 4, 2, 0|10|5\n",
      "1, 4, 0, 2, 3|9|7\n",
      "1, 4, 0, 3, 2|9|5\n",
      "1, 4, 2, 0, 3|10|6\n",
      "1, 4, 2, 3, 0|10|7\n",
      "1, 4, 3, 0, 2|10|5\n",
      "1, 4, 3, 2, 0|10|6\n",
      "2, 0, 1, 3, 4|7|7\n",
      "2, 0, 1, 4, 3|7|5\n",
      "2, 0, 3, 1, 4|9|7\n",
      "2, 0, 3, 4, 1|10|5\n",
      "2, 0, 4, 1, 3|9|9\n",
      "2, 0, 4, 3, 1|10|7\n",
      "2, 1, 0, 3, 4|9|8\n",
      "2, 1, 0, 4, 3|9|6\n",
      "2, 1, 3, 0, 4|10|5\n",
      "2, 1, 3, 4, 0|10|6\n",
      "2, 1, 4, 0, 3|10|7\n",
      "2, 1, 4, 3, 0|10|8\n",
      "2, 3, 0, 1, 4|9|6\n",
      "2, 3, 0, 4, 1|10|7\n",
      "2, 3, 1, 0, 4|10|5\n",
      "2, 3, 1, 4, 0|10|6\n",
      "2, 3, 4, 0, 1|10|6\n",
      "2, 3, 4, 1, 0|10|7\n",
      "2, 4, 0, 1, 3|9|5\n",
      "2, 4, 0, 3, 1|10|6\n",
      "2, 4, 1, 0, 3|10|4\n",
      "2, 4, 1, 3, 0|10|5\n",
      "2, 4, 3, 0, 1|10|4\n",
      "2, 4, 3, 1, 0|10|5\n",
      "3, 0, 1, 2, 4|7|6\n",
      "3, 0, 1, 4, 2|9|4\n",
      "3, 0, 2, 1, 4|9|8\n",
      "3, 0, 2, 4, 1|10|6\n",
      "3, 0, 4, 1, 2|9|7\n",
      "3, 0, 4, 2, 1|10|5\n",
      "3, 1, 0, 2, 4|9|7\n",
      "3, 1, 0, 4, 2|9|5\n",
      "3, 1, 2, 0, 4|10|6\n",
      "3, 1, 2, 4, 0|10|7\n",
      "3, 1, 4, 0, 2|10|5\n",
      "3, 1, 4, 2, 0|10|6\n",
      "3, 2, 0, 1, 4|9|5\n",
      "3, 2, 0, 4, 1|10|6\n",
      "3, 2, 1, 0, 4|10|4\n",
      "3, 2, 1, 4, 0|10|5\n",
      "3, 2, 4, 0, 1|10|4\n",
      "3, 2, 4, 1, 0|10|5\n",
      "3, 4, 0, 1, 2|9|4\n",
      "3, 4, 0, 2, 1|10|5\n",
      "3, 4, 1, 0, 2|10|3\n",
      "3, 4, 1, 2, 0|10|4\n",
      "3, 4, 2, 0, 1|10|5\n",
      "3, 4, 2, 1, 0|10|6\n",
      "4, 0, 1, 2, 3|7|5\n",
      "4, 0, 1, 3, 2|9|3\n",
      "4, 0, 2, 1, 3|9|7\n",
      "4, 0, 2, 3, 1|10|5\n",
      "4, 0, 3, 1, 2|9|6\n",
      "4, 0, 3, 2, 1|10|4\n",
      "4, 1, 0, 2, 3|9|6\n",
      "4, 1, 0, 3, 2|9|4\n",
      "4, 1, 2, 0, 3|10|5\n",
      "4, 1, 2, 3, 0|10|6\n",
      "4, 1, 3, 0, 2|10|4\n",
      "4, 1, 3, 2, 0|10|5\n",
      "4, 2, 0, 1, 3|9|4\n",
      "4, 2, 0, 3, 1|10|5\n",
      "4, 2, 1, 0, 3|10|3\n",
      "4, 2, 1, 3, 0|10|4\n",
      "4, 2, 3, 0, 1|10|3\n",
      "4, 2, 3, 1, 0|10|4\n",
      "4, 3, 0, 1, 2|9|3\n",
      "4, 3, 0, 2, 1|10|4\n",
      "4, 3, 1, 0, 2|10|2\n",
      "4, 3, 1, 2, 0|10|3\n",
      "4, 3, 2, 0, 1|10|4\n",
      "4, 3, 2, 1, 0|10|5\n"
     ]
    }
   ],
   "source": [
    "# A module full of combinatorial functions.\n",
    "import itertools\n",
    "\n",
    "# Length of example list.\n",
    "n = 5\n",
    "\n",
    "# Loop through all permutations of the list of intehers from 0 to n.\n",
    "for perm in itertools.permutations(range(n)):\n",
    "    L = list(perm)\n",
    "    bubb_comp = bubble_sort(L)\n",
    "    L = list(perm)\n",
    "    heap_comp = heapsort(L)\n",
    "    print(f'{str(perm)[1:-1]}|{bubb_comp}|{heap_comp}') #print(perm, '->', L)"
   ]
  },
  {
   "cell_type": "markdown",
   "id": "889f0c20",
   "metadata": {},
   "source": [
    "Using pandas:"
   ]
  },
  {
   "cell_type": "code",
   "execution_count": 49,
   "id": "d39b9bc0",
   "metadata": {},
   "outputs": [],
   "source": [
    "# Like Excel for Python\n",
    "import pandas as pd"
   ]
  },
  {
   "cell_type": "code",
   "execution_count": 50,
   "id": "c384dc50",
   "metadata": {},
   "outputs": [],
   "source": [
    "# Length of example list.\n",
    "n = 9\n",
    "\n",
    "results = [[str(perm)[1:-1], bubble_sort(list(perm)), heapsort(list(perm))] for perm in itertools.permutations(range(n))]"
   ]
  },
  {
   "cell_type": "code",
   "execution_count": 51,
   "id": "5dff6caa",
   "metadata": {},
   "outputs": [],
   "source": [
    "# Peak at the results.\n",
    "# results"
   ]
  },
  {
   "cell_type": "code",
   "execution_count": 52,
   "id": "d0c55102",
   "metadata": {},
   "outputs": [],
   "source": [
    "df = pd.DataFrame(results, columns=['list', 'bubble', 'heap'])"
   ]
  },
  {
   "cell_type": "code",
   "execution_count": 53,
   "id": "a3f90725",
   "metadata": {},
   "outputs": [
    {
     "data": {
      "text/html": [
       "<div>\n",
       "<style scoped>\n",
       "    .dataframe tbody tr th:only-of-type {\n",
       "        vertical-align: middle;\n",
       "    }\n",
       "\n",
       "    .dataframe tbody tr th {\n",
       "        vertical-align: top;\n",
       "    }\n",
       "\n",
       "    .dataframe thead th {\n",
       "        text-align: right;\n",
       "    }\n",
       "</style>\n",
       "<table border=\"1\" class=\"dataframe\">\n",
       "  <thead>\n",
       "    <tr style=\"text-align: right;\">\n",
       "      <th></th>\n",
       "      <th>list</th>\n",
       "      <th>bubble</th>\n",
       "      <th>heap</th>\n",
       "    </tr>\n",
       "  </thead>\n",
       "  <tbody>\n",
       "    <tr>\n",
       "      <th>0</th>\n",
       "      <td>0, 1, 2, 3, 4, 5, 6, 7, 8</td>\n",
       "      <td>8</td>\n",
       "      <td>25</td>\n",
       "    </tr>\n",
       "    <tr>\n",
       "      <th>1</th>\n",
       "      <td>0, 1, 2, 3, 4, 5, 6, 8, 7</td>\n",
       "      <td>15</td>\n",
       "      <td>23</td>\n",
       "    </tr>\n",
       "    <tr>\n",
       "      <th>2</th>\n",
       "      <td>0, 1, 2, 3, 4, 5, 7, 6, 8</td>\n",
       "      <td>15</td>\n",
       "      <td>24</td>\n",
       "    </tr>\n",
       "    <tr>\n",
       "      <th>3</th>\n",
       "      <td>0, 1, 2, 3, 4, 5, 7, 8, 6</td>\n",
       "      <td>21</td>\n",
       "      <td>24</td>\n",
       "    </tr>\n",
       "    <tr>\n",
       "      <th>4</th>\n",
       "      <td>0, 1, 2, 3, 4, 5, 8, 6, 7</td>\n",
       "      <td>15</td>\n",
       "      <td>22</td>\n",
       "    </tr>\n",
       "  </tbody>\n",
       "</table>\n",
       "</div>"
      ],
      "text/plain": [
       "                        list  bubble  heap\n",
       "0  0, 1, 2, 3, 4, 5, 6, 7, 8       8    25\n",
       "1  0, 1, 2, 3, 4, 5, 6, 8, 7      15    23\n",
       "2  0, 1, 2, 3, 4, 5, 7, 6, 8      15    24\n",
       "3  0, 1, 2, 3, 4, 5, 7, 8, 6      21    24\n",
       "4  0, 1, 2, 3, 4, 5, 8, 6, 7      15    22"
      ]
     },
     "execution_count": 53,
     "metadata": {},
     "output_type": "execute_result"
    }
   ],
   "source": [
    "df.head()"
   ]
  },
  {
   "cell_type": "code",
   "execution_count": 54,
   "id": "7cc12a88",
   "metadata": {},
   "outputs": [
    {
     "data": {
      "text/html": [
       "<div>\n",
       "<style scoped>\n",
       "    .dataframe tbody tr th:only-of-type {\n",
       "        vertical-align: middle;\n",
       "    }\n",
       "\n",
       "    .dataframe tbody tr th {\n",
       "        vertical-align: top;\n",
       "    }\n",
       "\n",
       "    .dataframe thead th {\n",
       "        text-align: right;\n",
       "    }\n",
       "</style>\n",
       "<table border=\"1\" class=\"dataframe\">\n",
       "  <thead>\n",
       "    <tr style=\"text-align: right;\">\n",
       "      <th></th>\n",
       "      <th>bubble</th>\n",
       "      <th>heap</th>\n",
       "    </tr>\n",
       "  </thead>\n",
       "  <tbody>\n",
       "    <tr>\n",
       "      <th>count</th>\n",
       "      <td>362880.000000</td>\n",
       "      <td>362880.000000</td>\n",
       "    </tr>\n",
       "    <tr>\n",
       "      <th>mean</th>\n",
       "      <td>33.506842</td>\n",
       "      <td>18.522917</td>\n",
       "    </tr>\n",
       "    <tr>\n",
       "      <th>std</th>\n",
       "      <td>3.077026</td>\n",
       "      <td>2.399822</td>\n",
       "    </tr>\n",
       "    <tr>\n",
       "      <th>min</th>\n",
       "      <td>8.000000</td>\n",
       "      <td>9.000000</td>\n",
       "    </tr>\n",
       "    <tr>\n",
       "      <th>25%</th>\n",
       "      <td>33.000000</td>\n",
       "      <td>17.000000</td>\n",
       "    </tr>\n",
       "    <tr>\n",
       "      <th>50%</th>\n",
       "      <td>35.000000</td>\n",
       "      <td>19.000000</td>\n",
       "    </tr>\n",
       "    <tr>\n",
       "      <th>75%</th>\n",
       "      <td>36.000000</td>\n",
       "      <td>20.000000</td>\n",
       "    </tr>\n",
       "    <tr>\n",
       "      <th>max</th>\n",
       "      <td>36.000000</td>\n",
       "      <td>27.000000</td>\n",
       "    </tr>\n",
       "  </tbody>\n",
       "</table>\n",
       "</div>"
      ],
      "text/plain": [
       "              bubble           heap\n",
       "count  362880.000000  362880.000000\n",
       "mean       33.506842      18.522917\n",
       "std         3.077026       2.399822\n",
       "min         8.000000       9.000000\n",
       "25%        33.000000      17.000000\n",
       "50%        35.000000      19.000000\n",
       "75%        36.000000      20.000000\n",
       "max        36.000000      27.000000"
      ]
     },
     "execution_count": 54,
     "metadata": {},
     "output_type": "execute_result"
    }
   ],
   "source": [
    "df.describe()"
   ]
  },
  {
   "cell_type": "markdown",
   "id": "15ca2444",
   "metadata": {},
   "source": [
    "<br>\n",
    "\n",
    "## Visualisation\n",
    "\n",
    "***"
   ]
  },
  {
   "cell_type": "code",
   "execution_count": 55,
   "id": "940c658c",
   "metadata": {},
   "outputs": [],
   "source": [
    "# Plots.\n",
    "import matplotlib.pyplot as plt"
   ]
  },
  {
   "cell_type": "code",
   "execution_count": 56,
   "id": "f3b8050e",
   "metadata": {},
   "outputs": [],
   "source": [
    "# Change default plot size.\n",
    "plt.rcParams[\"figure.figsize\"] = (20, 10)"
   ]
  },
  {
   "cell_type": "code",
   "execution_count": 57,
   "id": "9651cc0d",
   "metadata": {},
   "outputs": [],
   "source": [
    "# Graphs.\n",
    "import networkx as nx"
   ]
  },
  {
   "cell_type": "code",
   "execution_count": 58,
   "id": "3d28e7df",
   "metadata": {},
   "outputs": [],
   "source": [
    "# Math functions.\n",
    "import math"
   ]
  },
  {
   "cell_type": "code",
   "execution_count": 59,
   "id": "13e2fa7a",
   "metadata": {},
   "outputs": [],
   "source": [
    "# Numerical and random functions.\n",
    "import numpy as np"
   ]
  },
  {
   "cell_type": "code",
   "execution_count": 60,
   "id": "ca435a22",
   "metadata": {},
   "outputs": [],
   "source": [
    "# Set up the random number generator - setting seed means we get same sequence each time.\n",
    "rng = np.random.default_rng(seed=0)"
   ]
  },
  {
   "cell_type": "code",
   "execution_count": 61,
   "id": "f251b920",
   "metadata": {},
   "outputs": [
    {
     "data": {
      "text/plain": [
       "[4, 6, 2, 7, 3, 5, 9, 0, 8, 1]"
      ]
     },
     "execution_count": 61,
     "metadata": {},
     "output_type": "execute_result"
    }
   ],
   "source": [
    "# Shuffle a list of integers.\n",
    "L = list(rng.permutation(10))\n",
    "L"
   ]
  },
  {
   "cell_type": "code",
   "execution_count": 62,
   "id": "83cfd00d",
   "metadata": {},
   "outputs": [],
   "source": [
    "def drawtree(L, highlight=None):\n",
    "  # Create a fully balanced binary tree.\n",
    "  T = nx.balanced_tree(2, math.floor(math.log(len(L), 2)))\n",
    "  # Remove nodes beyond the length of L.\n",
    "  T.remove_nodes_from(list(T.nodes)[len(L):])\n",
    "  # Relabel the nodes with elements of L.\n",
    "  T = nx.relabel_nodes(T, dict(zip(T.nodes, L)), copy=True)\n",
    "  # Get nice positions for the nodes in the picture.\n",
    "  pos = nx.drawing.nx_pydot.graphviz_layout(T, prog=\"dot\")\n",
    "  # Draw the graph.\n",
    "  nx.draw(T, pos, with_labels=True, node_color='lightgrey', node_size=1600, font_size=32)\n",
    "  # Highlight nodes if needed.\n",
    "  if highlight:\n",
    "    nx.draw_networkx(T.subgraph([i for i in T.nodes if i in highlight]), pos=pos, node_color='pink', node_size=1600, font_size=32)"
   ]
  },
  {
   "cell_type": "code",
   "execution_count": 63,
   "id": "3b350404",
   "metadata": {},
   "outputs": [],
   "source": [
    "L[2], L[5] = L[5], L[2]"
   ]
  },
  {
   "cell_type": "code",
   "execution_count": 64,
   "id": "c56a6cc4",
   "metadata": {},
   "outputs": [
    {
     "data": {
      "text/plain": [
       "[4, 6, 5, 7, 3, 2, 9, 0, 8, 1]"
      ]
     },
     "execution_count": 64,
     "metadata": {},
     "output_type": "execute_result"
    },
    {
     "data": {
      "image/png": "[encoded data removed]",
      "text/plain": [
       "<Figure size 1440x720 with 1 Axes>"
      ]
     },
     "metadata": {},
     "output_type": "display_data"
    }
   ],
   "source": [
    "drawtree(L)\n",
    "L"
   ]
  },
  {
   "cell_type": "code",
   "execution_count": 65,
   "id": "de72fbdc",
   "metadata": {},
   "outputs": [],
   "source": [
    "S = []"
   ]
  },
  {
   "cell_type": "code",
   "execution_count": 66,
   "id": "88188d24",
   "metadata": {},
   "outputs": [],
   "source": [
    "S = [L[0]] + S"
   ]
  },
  {
   "cell_type": "code",
   "execution_count": 67,
   "id": "6c888c79",
   "metadata": {},
   "outputs": [
    {
     "data": {
      "text/plain": [
       "[4]"
      ]
     },
     "execution_count": 67,
     "metadata": {},
     "output_type": "execute_result"
    }
   ],
   "source": [
    "S"
   ]
  },
  {
   "cell_type": "code",
   "execution_count": 68,
   "id": "7b17f04b",
   "metadata": {},
   "outputs": [],
   "source": [
    "L[0], L[-1] = L[-1], L[0]"
   ]
  },
  {
   "cell_type": "code",
   "execution_count": 69,
   "id": "0bf66f76",
   "metadata": {},
   "outputs": [
    {
     "data": {
      "text/plain": [
       "[1, 6, 5, 7, 3, 2, 9, 0, 8]"
      ]
     },
     "execution_count": 69,
     "metadata": {},
     "output_type": "execute_result"
    }
   ],
   "source": [
    "L = L[:-1]\n",
    "L"
   ]
  },
  {
   "cell_type": "code",
   "execution_count": 70,
   "id": "d10052a6",
   "metadata": {},
   "outputs": [
    {
     "data": {
      "text/plain": [
       "([1, 6, 5, 7, 3, 2, 9, 0, 8], [4])"
      ]
     },
     "execution_count": 70,
     "metadata": {},
     "output_type": "execute_result"
    }
   ],
   "source": [
    "L, S"
   ]
  },
  {
   "cell_type": "code",
   "execution_count": 71,
   "id": "2d2e94b4",
   "metadata": {},
   "outputs": [],
   "source": [
    "L[1], L[3] = L[3], L[1]"
   ]
  },
  {
   "cell_type": "code",
   "execution_count": 72,
   "id": "539e3981",
   "metadata": {},
   "outputs": [
    {
     "data": {
      "text/plain": [
       "[1, 7, 5, 6, 3, 2, 9, 0, 8]"
      ]
     },
     "execution_count": 72,
     "metadata": {},
     "output_type": "execute_result"
    },
    {
     "data": {
      "image/png": "[encoded data removed]",
      "text/plain": [
       "<Figure size 1440x720 with 1 Axes>"
      ]
     },
     "metadata": {},
     "output_type": "display_data"
    }
   ],
   "source": [
    "drawtree(L)\n",
    "L"
   ]
  },
  {
   "cell_type": "markdown",
   "id": "5181f067",
   "metadata": {},
   "source": [
    "<br>\n",
    "\n",
    "## $ \\log_b n $\n",
    "\n",
    "***"
   ]
  },
  {
   "cell_type": "markdown",
   "id": "fb1874f0",
   "metadata": {},
   "source": [
    "$ 2^4 = 2 \\times 2 \\times 2 \\times 2 = 16$\n",
    "\n",
    "$ 2^{-4} = \\frac{1}{2^4}$\n",
    "\n",
    "$ 2^4 \\times 2^{-4} = 2^{4 + (-4)} = 2^{0}$\n",
    "\n",
    "$ 2^{0.5} = \\sqrt{2}$"
   ]
  },
  {
   "cell_type": "code",
   "execution_count": 73,
   "id": "1b7f113c",
   "metadata": {},
   "outputs": [
    {
     "data": {
      "text/plain": [
       "16"
      ]
     },
     "execution_count": 73,
     "metadata": {},
     "output_type": "execute_result"
    }
   ],
   "source": [
    "2**4"
   ]
  },
  {
   "cell_type": "code",
   "execution_count": 74,
   "id": "fad26fdb",
   "metadata": {},
   "outputs": [
    {
     "data": {
      "text/plain": [
       "0.0625"
      ]
     },
     "execution_count": 74,
     "metadata": {},
     "output_type": "execute_result"
    }
   ],
   "source": [
    "2**(-4)"
   ]
  },
  {
   "cell_type": "code",
   "execution_count": 75,
   "id": "b0ee68f1",
   "metadata": {},
   "outputs": [
    {
     "data": {
      "text/plain": [
       "1.4142135623730951"
      ]
     },
     "execution_count": 75,
     "metadata": {},
     "output_type": "execute_result"
    }
   ],
   "source": [
    "2**(0.5)"
   ]
  },
  {
   "cell_type": "markdown",
   "id": "11659e26",
   "metadata": {},
   "source": [
    "<br>\n",
    "\n",
    "$ b^a = n \\Leftrightarrow \\log_b n = a$\n",
    "\n",
    "$ 2^4 = 16 \\Leftrightarrow \\log_2 16 = 4$"
   ]
  },
  {
   "cell_type": "code",
   "execution_count": 76,
   "id": "8f1d9463",
   "metadata": {},
   "outputs": [],
   "source": [
    "import math"
   ]
  },
  {
   "cell_type": "code",
   "execution_count": 77,
   "id": "15c185e7",
   "metadata": {},
   "outputs": [
    {
     "data": {
      "text/plain": [
       "1.0"
      ]
     },
     "execution_count": 77,
     "metadata": {},
     "output_type": "execute_result"
    }
   ],
   "source": [
    "math.log(2, 2)"
   ]
  },
  {
   "cell_type": "markdown",
   "id": "ff6245e2",
   "metadata": {},
   "source": [
    "<br>\n",
    "\n",
    "## Height of a tree\n",
    "\n",
    "***"
   ]
  },
  {
   "cell_type": "code",
   "execution_count": 78,
   "id": "34771963",
   "metadata": {},
   "outputs": [
    {
     "name": "stdout",
     "output_type": "stream",
     "text": [
      "[0, 1, 2, 3, 4, 5, 6, 7, 8, 9, 10, 11, 12, 13, 14, 15, 16, 17, 18, 19, 20, 21, 22, 23, 24, 25, 26, 27, 28, 29, 30]\n"
     ]
    },
    {
     "data": {
      "image/png": "[encoded data removed]",
      "text/plain": [
       "<Figure size 1440x720 with 1 Axes>"
      ]
     },
     "metadata": {},
     "output_type": "display_data"
    }
   ],
   "source": [
    "# Length of the list.\n",
    "n = 31\n",
    "# Create a list of length n.\n",
    "L = list(range(n))\n",
    "# Show the list.\n",
    "print(L)\n",
    "# Draw the tree from L.\n",
    "drawtree(L)"
   ]
  },
  {
   "cell_type": "code",
   "execution_count": 79,
   "id": "18f68af2",
   "metadata": {},
   "outputs": [
    {
     "data": {
      "text/plain": [
       "31"
      ]
     },
     "execution_count": 79,
     "metadata": {},
     "output_type": "execute_result"
    }
   ],
   "source": [
    "2**0 + 2**1 + 2**2 + 2**3 + 2**4"
   ]
  },
  {
   "cell_type": "markdown",
   "id": "f8f9220d",
   "metadata": {},
   "source": [
    "$ 2^{h+1} -1 = \\sum_{i=0}^h 2^i$"
   ]
  },
  {
   "cell_type": "code",
   "execution_count": 80,
   "id": "aaa12063",
   "metadata": {},
   "outputs": [],
   "source": [
    "def max_list_length(height):\n",
    "    total_nodes = 0\n",
    "    for i in range(height + 1):\n",
    "        total_nodes = total_nodes + 2**i\n",
    "    return total_nodes"
   ]
  },
  {
   "cell_type": "code",
   "execution_count": 81,
   "id": "0f9070f6",
   "metadata": {},
   "outputs": [
    {
     "data": {
      "text/plain": [
       "31"
      ]
     },
     "execution_count": 81,
     "metadata": {},
     "output_type": "execute_result"
    }
   ],
   "source": [
    "max_list_length(4)"
   ]
  },
  {
   "cell_type": "code",
   "execution_count": 82,
   "id": "d5b95a06",
   "metadata": {},
   "outputs": [
    {
     "data": {
      "text/plain": [
       "32"
      ]
     },
     "execution_count": 82,
     "metadata": {},
     "output_type": "execute_result"
    }
   ],
   "source": [
    "2**5"
   ]
  },
  {
   "cell_type": "code",
   "execution_count": 83,
   "id": "c0883e5c",
   "metadata": {},
   "outputs": [
    {
     "data": {
      "text/plain": [
       "2047"
      ]
     },
     "execution_count": 83,
     "metadata": {},
     "output_type": "execute_result"
    }
   ],
   "source": [
    "max_list_length(10)"
   ]
  },
  {
   "cell_type": "code",
   "execution_count": 84,
   "id": "f6e5008c",
   "metadata": {},
   "outputs": [
    {
     "data": {
      "text/plain": [
       "2048"
      ]
     },
     "execution_count": 84,
     "metadata": {},
     "output_type": "execute_result"
    }
   ],
   "source": [
    "2**11"
   ]
  },
  {
   "cell_type": "code",
   "execution_count": 85,
   "id": "b22196f9",
   "metadata": {},
   "outputs": [
    {
     "data": {
      "text/plain": [
       "255"
      ]
     },
     "execution_count": 85,
     "metadata": {},
     "output_type": "execute_result"
    }
   ],
   "source": [
    "0b011111111"
   ]
  },
  {
   "cell_type": "code",
   "execution_count": 86,
   "id": "6a658925",
   "metadata": {},
   "outputs": [
    {
     "data": {
      "text/plain": [
       "255"
      ]
     },
     "execution_count": 86,
     "metadata": {},
     "output_type": "execute_result"
    }
   ],
   "source": [
    "(1 * 2**7) + (1 * 2**6) + (1 * 2**5) + (1 * 2**4) + (1 * 2**3) + (1 * 2**2) + (1 * 2**1) + (1 * 2**0)"
   ]
  },
  {
   "cell_type": "code",
   "execution_count": 87,
   "id": "ef458dcb",
   "metadata": {},
   "outputs": [
    {
     "data": {
      "text/plain": [
       "255"
      ]
     },
     "execution_count": 87,
     "metadata": {},
     "output_type": "execute_result"
    }
   ],
   "source": [
    "0b100000000 - 0b1"
   ]
  },
  {
   "cell_type": "code",
   "execution_count": 88,
   "id": "c8c6ce2f",
   "metadata": {},
   "outputs": [],
   "source": [
    "def max_list_length(height):\n",
    "    return 2**(height+1) - 1"
   ]
  },
  {
   "cell_type": "code",
   "execution_count": 89,
   "id": "9e08d73a",
   "metadata": {},
   "outputs": [
    {
     "data": {
      "text/plain": [
       "31"
      ]
     },
     "execution_count": 89,
     "metadata": {},
     "output_type": "execute_result"
    }
   ],
   "source": [
    "max_list_length(4)"
   ]
  },
  {
   "cell_type": "code",
   "execution_count": 90,
   "id": "c7e69b59",
   "metadata": {},
   "outputs": [
    {
     "data": {
      "text/plain": [
       "2047"
      ]
     },
     "execution_count": 90,
     "metadata": {},
     "output_type": "execute_result"
    }
   ],
   "source": [
    "max_list_length(10)"
   ]
  },
  {
   "cell_type": "code",
   "execution_count": 91,
   "id": "ca4ae4ca",
   "metadata": {},
   "outputs": [
    {
     "name": "stdout",
     "output_type": "stream",
     "text": [
      "32\t 5.0\n",
      "31\t 4.95\n",
      "30\t 4.91\n",
      "29\t 4.86\n",
      "28\t 4.81\n",
      "27\t 4.75\n",
      "26\t 4.7\n",
      "25\t 4.64\n",
      "24\t 4.58\n",
      "23\t 4.52\n",
      "22\t 4.46\n",
      "21\t 4.39\n",
      "20\t 4.32\n",
      "19\t 4.25\n",
      "18\t 4.17\n",
      "17\t 4.09\n",
      "16\t 4.0\n",
      "15\t 3.91\n",
      "14\t 3.81\n",
      "13\t 3.7\n",
      "12\t 3.58\n",
      "11\t 3.46\n",
      "10\t 3.32\n",
      " 9\t 3.17\n",
      " 8\t 3.0\n",
      " 7\t 2.81\n",
      " 6\t 2.58\n",
      " 5\t 2.32\n",
      " 4\t 2.0\n",
      " 3\t 1.58\n",
      " 2\t 1.0\n",
      " 1\t 0.0\n"
     ]
    }
   ],
   "source": [
    "for length in range(32, 0, -1):\n",
    "    print(f'{length:2}\\t {math.log(length, 2):2.3}')"
   ]
  },
  {
   "cell_type": "markdown",
   "id": "2e6f2b2c",
   "metadata": {},
   "source": [
    "<br>\n",
    "\n",
    "## Big O\n",
    "\n",
    "***"
   ]
  },
  {
   "cell_type": "code",
   "execution_count": 92,
   "id": "34165cda",
   "metadata": {},
   "outputs": [],
   "source": [
    "n = np.arange(0.1, 1000.1, 0.1)\n",
    "\n",
    "y1 = n**2\n",
    "\n",
    "y2 = n * np.log(n)"
   ]
  },
  {
   "cell_type": "code",
   "execution_count": 93,
   "id": "b6f75a1c",
   "metadata": {},
   "outputs": [
    {
     "data": {
      "text/plain": [
       "<matplotlib.legend.Legend at 0x1b5c7287880>"
      ]
     },
     "execution_count": 93,
     "metadata": {},
     "output_type": "execute_result"
    },
    {
     "data": {
      "image/png": "[encoded data removed]",
      "text/plain": [
       "<Figure size 1440x720 with 1 Axes>"
      ]
     },
     "metadata": {
      "needs_background": "light"
     },
     "output_type": "display_data"
    }
   ],
   "source": [
    "plt.plot(n, y1, label='$n^2$')\n",
    "plt.plot(n, y2, label='$n \\log(n)$')\n",
    "\n",
    "plt.legend()"
   ]
  },
  {
   "cell_type": "markdown",
   "id": "22998f13",
   "metadata": {},
   "source": [
    "**Quick definition**\n",
    "\n",
    "$ f(n) = n^2 $ is $ O(g(n))$ where $g(n) = n^3$\n",
    "\n",
    "because\n",
    "\n",
    "$ f(n) \\leq 1 \\times $ for all $n >= 1 $"
   ]
  },
  {
   "cell_type": "code",
   "execution_count": 94,
   "id": "76b58197",
   "metadata": {},
   "outputs": [
    {
     "data": {
      "text/plain": [
       "<matplotlib.legend.Legend at 0x1b5c76aa400>"
      ]
     },
     "execution_count": 94,
     "metadata": {},
     "output_type": "execute_result"
    },
    {
     "data": {
      "image/png": "[encoded data removed]",
      "text/plain": [
       "<Figure size 1440x720 with 1 Axes>"
      ]
     },
     "metadata": {
      "needs_background": "light"
     },
     "output_type": "display_data"
    }
   ],
   "source": [
    "n = np.arange(0.0, 2.1, 0.01)\n",
    "\n",
    "plt.plot(n, n**2, label='$n^2$')\n",
    "plt.plot(n, n**3, label='$n^3$')\n",
    "\n",
    "plt.legend()"
   ]
  },
  {
   "cell_type": "markdown",
   "id": "9ebd8bed",
   "metadata": {},
   "source": [
    "Technically, $2n^2$ is $O(n^2)$, even though..."
   ]
  },
  {
   "cell_type": "code",
   "execution_count": 95,
   "id": "d97bdd1a",
   "metadata": {
    "scrolled": true
   },
   "outputs": [
    {
     "data": {
      "text/plain": [
       "<matplotlib.legend.Legend at 0x1b5c7716f40>"
      ]
     },
     "execution_count": 95,
     "metadata": {},
     "output_type": "execute_result"
    },
    {
     "data": {
      "image/png": "[encoded data removed]",
      "text/plain": [
       "<Figure size 1440x720 with 1 Axes>"
      ]
     },
     "metadata": {
      "needs_background": "light"
     },
     "output_type": "display_data"
    }
   ],
   "source": [
    "n = np.arange(0.0, 2.1, 0.01)\n",
    "\n",
    "plt.plot(n, 2.0* (n**2), label='$n^2$')\n",
    "plt.plot(n, n**2, label='$n^3$')\n",
    "\n",
    "plt.legend()"
   ]
  },
  {
   "cell_type": "markdown",
   "id": "a321886c",
   "metadata": {},
   "source": [
    "$ n \\times \\log(n) $ + $n \\times \\log(n) = 2 n \\log(n)$\n",
    "\n",
    "$2 n \\log(n)$ is $O( n \\log(n))$"
   ]
  },
  {
   "cell_type": "markdown",
   "id": "4fcb5f65",
   "metadata": {},
   "source": [
    "<br>\n",
    "\n",
    "## Extras\n",
    "\n",
    "***"
   ]
  },
  {
   "cell_type": "code",
   "execution_count": 96,
   "id": "1b2e373b",
   "metadata": {},
   "outputs": [
    {
     "name": "stdout",
     "output_type": "stream",
     "text": [
      "1\n"
     ]
    }
   ],
   "source": [
    "# int's are passed by value\n",
    "\n",
    "# Function: b is a value.\n",
    "def change(b):\n",
    "    # Change value of b.\n",
    "    b = 2\n",
    "\n",
    "# Variable a set to 1\n",
    "a = 1\n",
    "    \n",
    "# a is passed by value.\n",
    "change(a)\n",
    "\n",
    "# a has not changed.\n",
    "print(a)"
   ]
  },
  {
   "cell_type": "code",
   "execution_count": 97,
   "id": "5e73f56e",
   "metadata": {},
   "outputs": [
    {
     "name": "stdout",
     "output_type": "stream",
     "text": [
      "[1, 2, 100, 4]\n"
     ]
    }
   ],
   "source": [
    "# Lists are passed by reference\n",
    "\n",
    "# Function: a is a reference.\n",
    "def change(b):\n",
    "    # Change an element.\n",
    "    b[2] = 100\n",
    "    \n",
    "# List.\n",
    "a = [1, 2, 3, 4]\n",
    "    \n",
    "# Pass a to change.\n",
    "change(a)\n",
    "\n",
    "# a has changed.\n",
    "print(a)"
   ]
  },
  {
   "cell_type": "markdown",
   "id": "90f7f5dc",
   "metadata": {},
   "source": [
    "***\n",
    "\n",
    "## End"
   ]
  }
 ],
 "metadata": {
  "kernelspec": {
   "display_name": "Python 3 (ipykernel)",
   "language": "python",
   "name": "python3"
  },
  "language_info": {
   "codemirror_mode": {
    "name": "ipython",
    "version": 3
   },
   "file_extension": ".py",
   "mimetype": "text/x-python",
   "name": "python",
   "nbconvert_exporter": "python",
   "pygments_lexer": "ipython3",
   "version": "3.9.7"
  }
 },
 "nbformat": 4,
 "nbformat_minor": 5
}
